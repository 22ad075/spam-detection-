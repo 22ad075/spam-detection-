{
  "nbformat": 4,
  "nbformat_minor": 0,
  "metadata": {
    "colab": {
      "provenance": []
    },
    "kernelspec": {
      "name": "python3",
      "display_name": "Python 3"
    },
    "language_info": {
      "name": "python"
    }
  },
  "cells": [
    {
      "cell_type": "code",
      "execution_count": null,
      "metadata": {
        "colab": {
          "base_uri": "https://localhost:8080/"
        },
        "id": "LieOUh23BZix",
        "outputId": "c1c0c19c-1962-427c-ca90-d0caa1ce9ddb"
      },
      "outputs": [
        {
          "output_type": "stream",
          "name": "stdout",
          "text": [
            "                                               Sentence Sentiment\n",
            "0     The GeoSolutions technology will leverage Bene...  positive\n",
            "1     $ESI on lows, down $1.50 to $2.50 BK a real po...  negative\n",
            "2     For the last quarter of 2010 , Componenta 's n...  positive\n",
            "3     According to the Finnish-Russian Chamber of Co...   neutral\n",
            "4     The Swedish buyout firm has sold its remaining...   neutral\n",
            "...                                                 ...       ...\n",
            "5837  RISING costs have forced packaging producer Hu...  negative\n",
            "5838  Nordic Walking was first used as a summer trai...   neutral\n",
            "5839  According shipping company Viking Line , the E...   neutral\n",
            "5840  In the building and home improvement trade , s...   neutral\n",
            "5841  HELSINKI AFX - KCI Konecranes said it has won ...  positive\n",
            "\n",
            "[5842 rows x 2 columns]\n"
          ]
        }
      ],
      "source": [
        "import pandas as pd\n",
        "a=pd.read_csv(\"/content/drive/MyDrive/Dataa (2).csv\")\n",
        "print(a)"
      ]
    },
    {
      "cell_type": "code",
      "source": [
        "data=a.where((pd.notnull(a)),'')\n"
      ],
      "metadata": {
        "id": "kF21p1sKEyev"
      },
      "execution_count": null,
      "outputs": []
    },
    {
      "cell_type": "code",
      "source": [
        "data.loc[data['Sentiment']=='positive','Sentiment',]=1\n",
        "data.loc[data['Sentiment']=='neutral','Sentiment',]=0\n",
        "data.loc[data['Sentiment']=='negative','Sentiment',]=2"
      ],
      "metadata": {
        "id": "46KuryegFXD1"
      },
      "execution_count": null,
      "outputs": []
    },
    {
      "cell_type": "code",
      "source": [
        "x=data['Sentence']"
      ],
      "metadata": {
        "id": "DDRnPHauF_Pt"
      },
      "execution_count": null,
      "outputs": []
    },
    {
      "cell_type": "code",
      "source": [
        "x=data[\"Sentence\"]\n",
        "y=data[\"Sentiment\"]\n",
        "print(y)"
      ],
      "metadata": {
        "colab": {
          "base_uri": "https://localhost:8080/"
        },
        "id": "LvUYWMULGH8Y",
        "outputId": "4f949af4-292c-4d33-8baa-b640635b74cb"
      },
      "execution_count": null,
      "outputs": [
        {
          "output_type": "stream",
          "name": "stdout",
          "text": [
            "0       1\n",
            "1       2\n",
            "2       1\n",
            "3       0\n",
            "4       0\n",
            "       ..\n",
            "5837    2\n",
            "5838    0\n",
            "5839    0\n",
            "5840    0\n",
            "5841    1\n",
            "Name: Sentiment, Length: 5842, dtype: object\n"
          ]
        }
      ]
    },
    {
      "cell_type": "code",
      "source": [
        "from sklearn.model_selection import train_test_split\n",
        "xtrain,xtest,ytrain,ytest=train_test_split(x,y,test_size=0.40)\n",
        "print(xtrain)\n",
        "print(xtest)\n",
        "print(ytrain)\n",
        "print(ytest)"
      ],
      "metadata": {
        "colab": {
          "base_uri": "https://localhost:8080/"
        },
        "id": "X-Kmu52PGhQd",
        "outputId": "e09e7371-56a3-4370-a758-9617e0d59f0d"
      },
      "execution_count": null,
      "outputs": [
        {
          "output_type": "stream",
          "name": "stdout",
          "text": [
            "3290    Profit before taxes decreased by 9 % to EUR 18...\n",
            "2230    The podcast , sees Harple provide the low-down...\n",
            "3580    The company will make its marketing and sales ...\n",
            "5825    Friends Life lifts profits 38% and hikes divi ...\n",
            "1878    For the purposes of the possible acquisition ,...\n",
            "                              ...                        \n",
            "4120      Total value of the contract is about EUR 10mn .\n",
            "907     Niklas Skogster has been employed by the ABB G...\n",
            "5167    The seminar introduced modern , clean technolo...\n",
            "5067    According to the company , the lay-offs will b...\n",
            "2416    Operating profit for the nine-month period dec...\n",
            "Name: Sentence, Length: 3505, dtype: object\n",
            "3554    The Costanza light , with an aluminum base and...\n",
            "1087    $PKT Momentum building for breakout trigger ! ...\n",
            "4871    Why AstraZeneca plc & Dixons Carphone PLC Are ...\n",
            "4728    Founded in 2000 , BioView automates laboratory...\n",
            "2792        $AAPL double bottom could be in, keep in mind\n",
            "                              ...                        \n",
            "81      In connection with the deal , Digia will emplo...\n",
            "2900    As a result of these transactions , the aggreg...\n",
            "4901    Changes to the as-built models from the design...\n",
            "723     $AAPL Stock Climbs as Barron's Sees 40% Upside...\n",
            "4329    The mall will be financed on a parity basis by...\n",
            "Name: Sentence, Length: 2337, dtype: object\n",
            "3290    2\n",
            "2230    0\n",
            "3580    1\n",
            "5825    1\n",
            "1878    0\n",
            "       ..\n",
            "4120    0\n",
            "907     0\n",
            "5167    1\n",
            "5067    0\n",
            "2416    2\n",
            "Name: Sentiment, Length: 3505, dtype: object\n",
            "3554    0\n",
            "1087    1\n",
            "4871    1\n",
            "4728    0\n",
            "2792    1\n",
            "       ..\n",
            "81      0\n",
            "2900    2\n",
            "4901    0\n",
            "723     1\n",
            "4329    0\n",
            "Name: Sentiment, Length: 2337, dtype: object\n"
          ]
        }
      ]
    },
    {
      "cell_type": "code",
      "source": [
        "from sklearn.feature_extraction.text import TfidfVectorizer\n",
        "feature_extraction=TfidfVectorizer(min_df=1,stop_words='english',lowercase=True)"
      ],
      "metadata": {
        "id": "CRVg3letLaSL"
      },
      "execution_count": null,
      "outputs": []
    },
    {
      "cell_type": "code",
      "source": [
        "xtrain=feature_extraction.fit_transform(xtrain)\n",
        "xtest=feature_extraction.transform(xtest)"
      ],
      "metadata": {
        "id": "3X6FpY4vMXkS"
      },
      "execution_count": null,
      "outputs": []
    },
    {
      "cell_type": "code",
      "source": [
        "ytrain=ytrain.astype('int')\n",
        "ytest=ytest.astype('int')"
      ],
      "metadata": {
        "id": "B_ocfZNeM9BJ"
      },
      "execution_count": null,
      "outputs": []
    },
    {
      "cell_type": "code",
      "source": [
        "print(xtrain)"
      ],
      "metadata": {
        "colab": {
          "base_uri": "https://localhost:8080/"
        },
        "id": "RzrQQpD5NJFo",
        "outputId": "a0c143e0-da0e-468f-eada-3265f09d9e3c"
      },
      "execution_count": null,
      "outputs": [
        {
          "output_type": "stream",
          "name": "stdout",
          "text": [
            "  (0, 2601)\t0.2510124849129731\n",
            "  (0, 8368)\t0.1829824810618551\n",
            "  (0, 210)\t0.40704633873824825\n",
            "  (0, 1906)\t0.2229824362030218\n",
            "  (0, 196)\t0.19737217060854112\n",
            "  (0, 5077)\t0.2775693292340397\n",
            "  (0, 5041)\t0.3696071548191298\n",
            "  (0, 146)\t0.3925243309954158\n",
            "  (0, 2849)\t0.30426564924025734\n",
            "  (0, 2274)\t0.24523712327328712\n",
            "  (0, 7533)\t0.3165994622135232\n",
            "  (0, 5973)\t0.16870950866835438\n",
            "  (1, 8315)\t0.21635177249073098\n",
            "  (1, 3956)\t0.22294342083698243\n",
            "  (1, 2032)\t0.30619101638867147\n",
            "  (1, 5959)\t0.2608986598800013\n",
            "  (1, 3986)\t0.20375910223476087\n",
            "  (1, 2307)\t0.30619101638867147\n",
            "  (1, 4660)\t0.25607096973274784\n",
            "  (1, 7483)\t0.26647181914665463\n",
            "  (1, 5770)\t0.24455760265209392\n",
            "  (1, 3628)\t0.26647181914665463\n",
            "  (1, 4709)\t0.2148758952691788\n",
            "  (1, 6028)\t0.22294342083698243\n",
            "  (1, 3688)\t0.30619101638867147\n",
            "  :\t:\n",
            "  (3502, 4101)\t0.2381903456470487\n",
            "  (3502, 7546)\t0.19770268578610672\n",
            "  (3502, 5990)\t0.19386872295745297\n",
            "  (3502, 2734)\t0.3692186775423387\n",
            "  (3502, 3216)\t0.1496532761933301\n",
            "  (3502, 2365)\t0.2045379574243945\n",
            "  (3502, 5968)\t0.1496532761933301\n",
            "  (3503, 7583)\t0.527561329061919\n",
            "  (3503, 4500)\t0.49552638542206107\n",
            "  (3503, 5362)\t0.5212373234253616\n",
            "  (3503, 656)\t0.38277292993050865\n",
            "  (3503, 1900)\t0.2406848192340916\n",
            "  (3504, 2870)\t0.42754984425908493\n",
            "  (3504, 2882)\t0.42754984425908493\n",
            "  (3504, 5075)\t0.2750679221037824\n",
            "  (3504, 5662)\t0.4024634721408084\n",
            "  (3504, 2088)\t0.23318053231774566\n",
            "  (3504, 194)\t0.20326881473808278\n",
            "  (3504, 5198)\t0.1808575600167518\n",
            "  (3504, 3948)\t0.2541898073985019\n",
            "  (3504, 5410)\t0.18956891183954372\n",
            "  (3504, 6636)\t0.17165331144966442\n",
            "  (3504, 1906)\t0.22300115316760225\n",
            "  (3504, 2274)\t0.24525770827822418\n",
            "  (3504, 5973)\t0.16872367000748004\n"
          ]
        }
      ]
    },
    {
      "cell_type": "code",
      "source": [
        "print(xtest)"
      ],
      "metadata": {
        "colab": {
          "base_uri": "https://localhost:8080/"
        },
        "id": "h4Vaw_EaNO3U",
        "outputId": "f790902d-2d7e-4a48-f10e-e660b0e8306f"
      },
      "execution_count": null,
      "outputs": [
        {
          "output_type": "stream",
          "name": "stdout",
          "text": [
            "  (0, 8249)\t0.377739148914111\n",
            "  (0, 6240)\t0.35055415506828086\n",
            "  (0, 5433)\t0.377739148914111\n",
            "  (0, 4586)\t0.3332276136000563\n",
            "  (0, 1860)\t0.33834581260641106\n",
            "  (0, 1325)\t0.33834581260641106\n",
            "  (0, 1189)\t0.31353094544620635\n",
            "  (0, 866)\t0.3917141573712701\n",
            "  (1, 7234)\t0.30554177409114014\n",
            "  (1, 6847)\t0.45153055759753835\n",
            "  (1, 5066)\t0.48149346981920416\n",
            "  (1, 4676)\t0.3097099501534124\n",
            "  (1, 3841)\t0.30087502891600804\n",
            "  (1, 1479)\t0.3443178013639879\n",
            "  (1, 1424)\t0.40734215811402263\n",
            "  (2, 7192)\t0.3845457033326567\n",
            "  (2, 6240)\t0.3276629727592969\n",
            "  (2, 5779)\t0.4883887685974348\n",
            "  (2, 3819)\t0.33466231086939896\n",
            "  (2, 3605)\t0.2308746862716892\n",
            "  (2, 2475)\t0.3661352273835504\n",
            "  (2, 1591)\t0.3661352273835504\n",
            "  (2, 1047)\t0.26986292168230247\n",
            "  (3, 7610)\t0.6284078192764154\n",
            "  (3, 4442)\t0.3234869092931357\n",
            "  :\t:\n",
            "  (2335, 7966)\t0.42799027205253537\n",
            "  (2335, 7239)\t0.3019424512302198\n",
            "  (2335, 6777)\t0.4008402442425841\n",
            "  (2335, 3842)\t0.3028266197758052\n",
            "  (2335, 1799)\t0.49549851818376794\n",
            "  (2335, 624)\t0.32642037745333086\n",
            "  (2335, 356)\t0.3481510818381921\n",
            "  (2336, 8064)\t0.2332620776289918\n",
            "  (2336, 7159)\t0.24884838088965344\n",
            "  (2336, 6862)\t0.268146231464873\n",
            "  (2336, 5778)\t0.2920487928390422\n",
            "  (2336, 5630)\t0.27806669076396723\n",
            "  (2336, 4789)\t0.268146231464873\n",
            "  (2336, 4641)\t0.26045132541875843\n",
            "  (2336, 4223)\t0.21627946594055378\n",
            "  (2336, 4124)\t0.24018202731472305\n",
            "  (2336, 4122)\t0.1777620488345387\n",
            "  (2336, 3976)\t0.2010432581413149\n",
            "  (2336, 3792)\t0.2442436700907037\n",
            "  (2336, 3598)\t0.1357461480210928\n",
            "  (2336, 3214)\t0.26045132541875843\n",
            "  (2336, 2829)\t0.21627946594055378\n",
            "  (2336, 1900)\t0.1050502772311719\n",
            "  (2336, 1730)\t0.25416412938979804\n",
            "  (2336, 1195)\t0.25416412938979804\n"
          ]
        }
      ]
    },
    {
      "cell_type": "code",
      "source": [
        "print(ytrain)"
      ],
      "metadata": {
        "colab": {
          "base_uri": "https://localhost:8080/"
        },
        "id": "Zo08LIClNUeY",
        "outputId": "b033581c-3ceb-4d57-eace-c20a7dca2a2a"
      },
      "execution_count": null,
      "outputs": [
        {
          "output_type": "stream",
          "name": "stdout",
          "text": [
            "3290    2\n",
            "2230    0\n",
            "3580    1\n",
            "5825    1\n",
            "1878    0\n",
            "       ..\n",
            "4120    0\n",
            "907     0\n",
            "5167    1\n",
            "5067    0\n",
            "2416    2\n",
            "Name: Sentiment, Length: 3505, dtype: int64\n"
          ]
        }
      ]
    },
    {
      "cell_type": "code",
      "source": [
        "print(ytest)"
      ],
      "metadata": {
        "colab": {
          "base_uri": "https://localhost:8080/"
        },
        "id": "8FAdl-EgNXgQ",
        "outputId": "7b15ffcf-db46-4a1f-bb52-52c23eb68864"
      },
      "execution_count": null,
      "outputs": [
        {
          "output_type": "stream",
          "name": "stdout",
          "text": [
            "3554    0\n",
            "1087    1\n",
            "4871    1\n",
            "4728    0\n",
            "2792    1\n",
            "       ..\n",
            "81      0\n",
            "2900    2\n",
            "4901    0\n",
            "723     1\n",
            "4329    0\n",
            "Name: Sentiment, Length: 2337, dtype: int64\n"
          ]
        }
      ]
    },
    {
      "cell_type": "code",
      "source": [
        "from sklearn.neighbors import KNeighborsClassifier\n",
        "b=KNeighborsClassifier()\n",
        "b.fit(xtrain,ytrain)\n",
        "ypred=b.predict(xtest)"
      ],
      "metadata": {
        "id": "DcfGHCHRNdWp"
      },
      "execution_count": null,
      "outputs": []
    },
    {
      "cell_type": "code",
      "source": [
        "from sklearn.metrics import accuracy_score\n",
        "print(accuracy_score(ytest,ypred))"
      ],
      "metadata": {
        "colab": {
          "base_uri": "https://localhost:8080/"
        },
        "id": "gaC4k5u5SCYU",
        "outputId": "eb29fa08-d84c-4544-ac3a-de8edf54adc5"
      },
      "execution_count": null,
      "outputs": [
        {
          "output_type": "stream",
          "name": "stdout",
          "text": [
            "0.5477107402652974\n"
          ]
        }
      ]
    },
    {
      "cell_type": "code",
      "source": [
        "from sklearn.metrics import confusion_matrix\n",
        "print(confusion_matrix(ytest,ypred))"
      ],
      "metadata": {
        "colab": {
          "base_uri": "https://localhost:8080/"
        },
        "id": "wNmfq1EbSG_u",
        "outputId": "42048148-e6fa-4f48-b5f3-ac04f31a2c3f"
      },
      "execution_count": null,
      "outputs": [
        {
          "output_type": "stream",
          "name": "stdout",
          "text": [
            "[[1243    6   14]\n",
            " [ 699   28    5]\n",
            " [ 325    8    9]]\n"
          ]
        }
      ]
    },
    {
      "cell_type": "code",
      "source": [
        "from sklearn.metrics import classification_report\n",
        "print(classification_report(ytest,ypred))"
      ],
      "metadata": {
        "colab": {
          "base_uri": "https://localhost:8080/"
        },
        "id": "25FTlAc2SO15",
        "outputId": "612eacc8-66a5-4d69-fec4-10656eebb0e1"
      },
      "execution_count": null,
      "outputs": [
        {
          "output_type": "stream",
          "name": "stdout",
          "text": [
            "              precision    recall  f1-score   support\n",
            "\n",
            "           0       0.55      0.98      0.70      1263\n",
            "           1       0.67      0.04      0.07       732\n",
            "           2       0.32      0.03      0.05       342\n",
            "\n",
            "    accuracy                           0.55      2337\n",
            "   macro avg       0.51      0.35      0.28      2337\n",
            "weighted avg       0.55      0.55      0.41      2337\n",
            "\n"
          ]
        }
      ]
    },
    {
      "cell_type": "code",
      "source": [
        "import pandas as pd\n",
        "a=pd.read_csv(\"/content/drive/MyDrive/spam (1).csv\",encoding='latin-1')\n",
        "print(a)"
      ],
      "metadata": {
        "colab": {
          "base_uri": "https://localhost:8080/"
        },
        "id": "dmxiNU_3YKn3",
        "outputId": "8322e1eb-de99-4dde-8088-94d946d89a60"
      },
      "execution_count": null,
      "outputs": [
        {
          "output_type": "stream",
          "name": "stdout",
          "text": [
            "        v1                                                 v2 Unnamed: 2  \\\n",
            "0      ham  Go until jurong point, crazy.. Available only ...        NaN   \n",
            "1      ham                      Ok lar... Joking wif u oni...        NaN   \n",
            "2     spam  Free entry in 2 a wkly comp to win FA Cup fina...        NaN   \n",
            "3      ham  U dun say so early hor... U c already then say...        NaN   \n",
            "4      ham  Nah I don't think he goes to usf, he lives aro...        NaN   \n",
            "...    ...                                                ...        ...   \n",
            "5567  spam  This is the 2nd time we have tried 2 contact u...        NaN   \n",
            "5568   ham              Will Ì_ b going to esplanade fr home?        NaN   \n",
            "5569   ham  Pity, * was in mood for that. So...any other s...        NaN   \n",
            "5570   ham  The guy did some bitching but I acted like i'd...        NaN   \n",
            "5571   ham                         Rofl. Its true to its name        NaN   \n",
            "\n",
            "     Unnamed: 3 Unnamed: 4  \n",
            "0           NaN        NaN  \n",
            "1           NaN        NaN  \n",
            "2           NaN        NaN  \n",
            "3           NaN        NaN  \n",
            "4           NaN        NaN  \n",
            "...         ...        ...  \n",
            "5567        NaN        NaN  \n",
            "5568        NaN        NaN  \n",
            "5569        NaN        NaN  \n",
            "5570        NaN        NaN  \n",
            "5571        NaN        NaN  \n",
            "\n",
            "[5572 rows x 5 columns]\n"
          ]
        }
      ]
    },
    {
      "cell_type": "code",
      "source": [
        "data=a.where((pd.notnull(a)),'')\n"
      ],
      "metadata": {
        "id": "W84ZPpL0akL9"
      },
      "execution_count": null,
      "outputs": []
    },
    {
      "cell_type": "code",
      "source": [
        "data.loc[data['v1']=='ham','v1',]=1\n",
        "data.loc[data['v1']=='spam','v1',]=2"
      ],
      "metadata": {
        "id": "vsekLk3razJb"
      },
      "execution_count": null,
      "outputs": []
    },
    {
      "cell_type": "code",
      "source": [
        "x=data['v2']"
      ],
      "metadata": {
        "id": "6c1JA6zkb6Yt"
      },
      "execution_count": null,
      "outputs": []
    },
    {
      "cell_type": "code",
      "source": [
        "x=data[\"v2\"]\n",
        "y=data[\"v1\"]\n",
        "print(y)"
      ],
      "metadata": {
        "colab": {
          "base_uri": "https://localhost:8080/"
        },
        "id": "dW__ib8VcEUn",
        "outputId": "ed639806-e2e4-4a3f-81cd-ccdcdacc095b"
      },
      "execution_count": null,
      "outputs": [
        {
          "output_type": "stream",
          "name": "stdout",
          "text": [
            "0       1\n",
            "1       1\n",
            "2       2\n",
            "3       1\n",
            "4       1\n",
            "       ..\n",
            "5567    2\n",
            "5568    1\n",
            "5569    1\n",
            "5570    1\n",
            "5571    1\n",
            "Name: v1, Length: 5572, dtype: object\n"
          ]
        }
      ]
    },
    {
      "cell_type": "code",
      "source": [
        "from sklearn.model_selection import train_test_split\n",
        "xtrain,xtest,ytrain,ytest=train_test_split(x,y,test_size=0.40)\n",
        "print(xtrain)\n",
        "print(xtest)\n",
        "print(ytrain)\n",
        "print(ytest)"
      ],
      "metadata": {
        "colab": {
          "base_uri": "https://localhost:8080/"
        },
        "id": "8Rjtr46KfuX8",
        "outputId": "849ed431-3f6f-4299-f83e-b173c2b91ce9"
      },
      "execution_count": null,
      "outputs": [
        {
          "output_type": "stream",
          "name": "stdout",
          "text": [
            "3700                                Shall i get my pouch?\n",
            "2662    Hello darling how are you today? I would love ...\n",
            "3037    You are not bothering me but you have to trust...\n",
            "226     Will u meet ur dream partner soon? Is ur caree...\n",
            "5031          Ok i vl..do u know i got adsense approved..\n",
            "                              ...                        \n",
            "508                              What's the significance?\n",
            "770     Not getting anywhere with this damn job huntin...\n",
            "3295    Hi there. We have now moved in2 our pub . Woul...\n",
            "3507    Camera quite good, 10.1mega pixels, 3optical a...\n",
            "3264    44 7732584351, Do you want a New Nokia 3510i c...\n",
            "Name: v2, Length: 3343, dtype: object\n",
            "3518           Hanging out with my brother and his family\n",
            "684     I wanted to ask Ì_ to wait 4 me to finish lect...\n",
            "1134    U wake up already? Thanx 4 e tau sar piah it's...\n",
            "5231    I realise you are a busy guy and i'm trying no...\n",
            "1069                                Jus finish bathing...\n",
            "                              ...                        \n",
            "5013    Hello boytoy ! Geeee ... I'm missing you today...\n",
            "615     \\Happy valentines day\\\" I know its early but i...\n",
            "3376    Yup. Wun believe wat? U really neva c e msg i ...\n",
            "921     On ma way to school. Can you pls send me ashle...\n",
            "4065    Fyi I'm gonna call you sporadically starting a...\n",
            "Name: v2, Length: 2229, dtype: object\n",
            "3700    1\n",
            "2662    2\n",
            "3037    1\n",
            "226     2\n",
            "5031    1\n",
            "       ..\n",
            "508     1\n",
            "770     1\n",
            "3295    1\n",
            "3507    1\n",
            "3264    2\n",
            "Name: v1, Length: 3343, dtype: object\n",
            "3518    1\n",
            "684     1\n",
            "1134    1\n",
            "5231    1\n",
            "1069    1\n",
            "       ..\n",
            "5013    1\n",
            "615     1\n",
            "3376    1\n",
            "921     1\n",
            "4065    1\n",
            "Name: v1, Length: 2229, dtype: object\n"
          ]
        }
      ]
    },
    {
      "cell_type": "code",
      "source": [
        "from sklearn.feature_extraction.text import TfidfVectorizer\n",
        "feature_extraction=TfidfVectorizer(min_df=1,stop_words='english',lowercase=True)"
      ],
      "metadata": {
        "id": "50Jb1e-Uf73E"
      },
      "execution_count": null,
      "outputs": []
    },
    {
      "cell_type": "code",
      "source": [
        "xtrain=feature_extraction.fit_transform(xtrain)\n",
        "xtest=feature_extraction.transform(xtest)"
      ],
      "metadata": {
        "id": "-rW09JBPgCIg"
      },
      "execution_count": null,
      "outputs": []
    },
    {
      "cell_type": "code",
      "source": [
        "ytrain=ytrain.astype('int')\n",
        "ytest=ytest.astype('int')"
      ],
      "metadata": {
        "id": "EdR_9B01gI-w"
      },
      "execution_count": null,
      "outputs": []
    },
    {
      "cell_type": "code",
      "source": [
        "print(xtrain)"
      ],
      "metadata": {
        "colab": {
          "base_uri": "https://localhost:8080/"
        },
        "id": "JOq43j3AgKnA",
        "outputId": "3409f15c-8da1-41ea-8688-2302f8e434e9"
      },
      "execution_count": null,
      "outputs": [
        {
          "output_type": "stream",
          "name": "stdout",
          "text": [
            "  (0, 4367)\t0.8133529604460753\n",
            "  (0, 4958)\t0.581770540448384\n",
            "  (1, 4946)\t0.362440947345547\n",
            "  (1, 3364)\t0.23491654778621301\n",
            "  (1, 3433)\t0.34018906320396375\n",
            "  (1, 5529)\t0.2824547857546594\n",
            "  (1, 1994)\t0.2689050534563322\n",
            "  (1, 1430)\t0.3241703174244819\n",
            "  (1, 3458)\t0.25418155630326095\n",
            "  (1, 5667)\t0.2590603332010133\n",
            "  (1, 1787)\t0.44592501741315854\n",
            "  (1, 2774)\t0.3316255525631786\n",
            "  (2, 4299)\t0.33527905466369745\n",
            "  (2, 807)\t0.5324742167894551\n",
            "  (2, 5761)\t0.5171004430365683\n",
            "  (2, 1182)\t0.5802295199054066\n",
            "  (3, 861)\t0.2595672399062032\n",
            "  (3, 5028)\t0.2313262771862397\n",
            "  (3, 5258)\t0.24707041482219552\n",
            "  (3, 2388)\t0.24707041482219552\n",
            "  (3, 2859)\t0.5191344798124063\n",
            "  (3, 5790)\t0.1383845876621393\n",
            "  (3, 2432)\t0.12775627180241242\n",
            "  (3, 5262)\t0.19360833992045712\n",
            "  (3, 2382)\t0.2595672399062032\n",
            "  :\t:\n",
            "  (3341, 4528)\t0.1904442126562445\n",
            "  (3341, 210)\t0.19765182088307764\n",
            "  (3341, 2735)\t0.1714585149893385\n",
            "  (3341, 2603)\t0.2630213714792175\n",
            "  (3341, 1334)\t0.1960758829427472\n",
            "  (3341, 2849)\t0.15812348221136927\n",
            "  (3341, 3900)\t0.15812348221136927\n",
            "  (3342, 517)\t0.2845153635759476\n",
            "  (3342, 408)\t0.2845153635759476\n",
            "  (3342, 356)\t0.26109856563204153\n",
            "  (3342, 1847)\t0.2708174148917982\n",
            "  (3342, 371)\t0.2708174148917982\n",
            "  (3342, 46)\t0.22692335030546418\n",
            "  (3342, 1332)\t0.23014324253769147\n",
            "  (3342, 211)\t0.19918791944334144\n",
            "  (3342, 1565)\t0.21877610060929453\n",
            "  (3342, 3937)\t0.19302849590963608\n",
            "  (3342, 5563)\t0.21644529385354216\n",
            "  (3342, 4675)\t0.16298629051633282\n",
            "  (3342, 3726)\t0.16298629051633282\n",
            "  (3342, 6024)\t0.14944295673944008\n",
            "  (3342, 4238)\t0.16440397957103842\n",
            "  (3342, 3689)\t0.2020048252081261\n",
            "  (3342, 3900)\t0.16538327417525814\n",
            "  (3342, 2432)\t0.42010642946435584\n"
          ]
        }
      ]
    },
    {
      "cell_type": "code",
      "source": [
        "print(xtest)"
      ],
      "metadata": {
        "colab": {
          "base_uri": "https://localhost:8080/"
        },
        "id": "nxSYALDSgNkb",
        "outputId": "400f2868-5346-4c74-ca0e-28852f4c9760"
      },
      "execution_count": null,
      "outputs": [
        {
          "output_type": "stream",
          "name": "stdout",
          "text": [
            "  (0, 2724)\t0.6561355242034521\n",
            "  (0, 2270)\t0.5244029317712283\n",
            "  (0, 1252)\t0.5426672452138617\n",
            "  (1, 6325)\t0.21169000675166966\n",
            "  (1, 6025)\t0.2788863664419947\n",
            "  (1, 6001)\t0.23103139799006853\n",
            "  (1, 3322)\t0.682640844123298\n",
            "  (1, 2872)\t0.2650304524908217\n",
            "  (1, 2346)\t0.341320422061649\n",
            "  (1, 2343)\t0.26272836522055565\n",
            "  (1, 1669)\t0.22326846649239984\n",
            "  (1, 889)\t0.22895399853787238\n",
            "  (2, 6004)\t0.5224911683241029\n",
            "  (2, 5571)\t0.5095517023285664\n",
            "  (2, 4528)\t0.49491641348848725\n",
            "  (2, 3909)\t0.4716119011826001\n",
            "  (3, 6050)\t0.21539099894207228\n",
            "  (3, 5766)\t0.26204659514121553\n",
            "  (3, 5764)\t0.23990828573055345\n",
            "  (3, 4580)\t0.357653900981173\n",
            "  (3, 4106)\t0.357653900981173\n",
            "  (3, 2688)\t0.26934468954320834\n",
            "  (3, 2628)\t0.2750154678500411\n",
            "  (3, 2208)\t0.3282174971685181\n",
            "  (3, 1799)\t0.18377628413166708\n",
            "  :\t:\n",
            "  (2225, 278)\t0.3140688932305637\n",
            "  (2226, 6311)\t0.31723053388717976\n",
            "  (2226, 6238)\t0.39401500862968664\n",
            "  (2226, 6041)\t0.2788710292135415\n",
            "  (2226, 5017)\t0.40382462570634076\n",
            "  (2226, 4921)\t0.27993648847301217\n",
            "  (2226, 4585)\t0.28681442680449976\n",
            "  (2226, 3898)\t0.3665305802921731\n",
            "  (2226, 3790)\t0.27195090825788326\n",
            "  (2226, 1068)\t0.3665305802921731\n",
            "  (2227, 6050)\t0.30859314806377947\n",
            "  (2227, 4913)\t0.26804187939864615\n",
            "  (2227, 4855)\t0.382204571057148\n",
            "  (2227, 4299)\t0.2960931073640007\n",
            "  (2227, 3977)\t0.3141790899566824\n",
            "  (2227, 3513)\t0.48774470127074837\n",
            "  (2227, 885)\t0.5124148351749577\n",
            "  (2228, 5264)\t0.4273345577706286\n",
            "  (2228, 4986)\t0.36184785716208434\n",
            "  (2228, 3478)\t0.24833899763461667\n",
            "  (2228, 3364)\t0.24269613944662818\n",
            "  (2228, 2671)\t0.24962095163882553\n",
            "  (2228, 2601)\t0.32971904990531636\n",
            "  (2228, 2490)\t0.46069245112240487\n",
            "  (2228, 1982)\t0.4273345577706286\n"
          ]
        }
      ]
    },
    {
      "cell_type": "code",
      "source": [
        "print(ytest)"
      ],
      "metadata": {
        "colab": {
          "base_uri": "https://localhost:8080/"
        },
        "id": "w4u6tiehgVyH",
        "outputId": "ec93fc8f-1d2b-4af5-fc77-fd3222ef29b9"
      },
      "execution_count": null,
      "outputs": [
        {
          "output_type": "stream",
          "name": "stdout",
          "text": [
            "3518    1\n",
            "684     1\n",
            "1134    1\n",
            "5231    1\n",
            "1069    1\n",
            "       ..\n",
            "5013    1\n",
            "615     1\n",
            "3376    1\n",
            "921     1\n",
            "4065    1\n",
            "Name: v1, Length: 2229, dtype: int64\n"
          ]
        }
      ]
    },
    {
      "cell_type": "code",
      "source": [
        "print(ytrain)"
      ],
      "metadata": {
        "colab": {
          "base_uri": "https://localhost:8080/"
        },
        "id": "fJhhjNs7gYnm",
        "outputId": "246a49a3-b5da-4461-f946-6b04cbb625b6"
      },
      "execution_count": null,
      "outputs": [
        {
          "output_type": "stream",
          "name": "stdout",
          "text": [
            "3700    1\n",
            "2662    2\n",
            "3037    1\n",
            "226     2\n",
            "5031    1\n",
            "       ..\n",
            "508     1\n",
            "770     1\n",
            "3295    1\n",
            "3507    1\n",
            "3264    2\n",
            "Name: v1, Length: 3343, dtype: int64\n"
          ]
        }
      ]
    },
    {
      "cell_type": "code",
      "source": [
        "from sklearn.neighbors import KNeighborsClassifier\n",
        "b=KNeighborsClassifier()\n",
        "b.fit(xtrain,ytrain)\n",
        "ypred=b.predict(xtest)"
      ],
      "metadata": {
        "id": "iqCBUXvbghHG"
      },
      "execution_count": null,
      "outputs": []
    },
    {
      "cell_type": "code",
      "source": [
        "from sklearn.metrics import accuracy_score\n",
        "print(accuracy_score(ytest,ypred))"
      ],
      "metadata": {
        "colab": {
          "base_uri": "https://localhost:8080/"
        },
        "id": "fatYR5Q5goCX",
        "outputId": "20ecaf52-f139-44f1-a0c5-5775aa5c2cf8"
      },
      "execution_count": null,
      "outputs": [
        {
          "output_type": "stream",
          "name": "stdout",
          "text": [
            "0.9004037685060565\n"
          ]
        }
      ]
    },
    {
      "cell_type": "code",
      "source": [
        "from sklearn.metrics import confusion_matrix\n",
        "print(confusion_matrix(ytest,ypred))"
      ],
      "metadata": {
        "colab": {
          "base_uri": "https://localhost:8080/"
        },
        "id": "WbcswVUngqC0",
        "outputId": "20ca869d-c847-4cad-c73e-3092e81695b1"
      },
      "execution_count": null,
      "outputs": [
        {
          "output_type": "stream",
          "name": "stdout",
          "text": [
            "[[1924    0]\n",
            " [ 222   83]]\n",
            "[[1924    0]\n",
            " [ 222   83]]\n"
          ]
        }
      ]
    },
    {
      "cell_type": "code",
      "source": [
        "from sklearn.metrics import classification_report\n",
        "print(classification_report(ytest,ypred))"
      ],
      "metadata": {
        "colab": {
          "base_uri": "https://localhost:8080/"
        },
        "id": "tIppWZvug659",
        "outputId": "c12a3b6a-20b4-46d8-826b-c2486a721170"
      },
      "execution_count": null,
      "outputs": [
        {
          "output_type": "stream",
          "name": "stdout",
          "text": [
            "              precision    recall  f1-score   support\n",
            "\n",
            "           1       0.90      1.00      0.95      1924\n",
            "           2       1.00      0.27      0.43       305\n",
            "\n",
            "    accuracy                           0.90      2229\n",
            "   macro avg       0.95      0.64      0.69      2229\n",
            "weighted avg       0.91      0.90      0.87      2229\n",
            "\n"
          ]
        }
      ]
    }
  ]
}